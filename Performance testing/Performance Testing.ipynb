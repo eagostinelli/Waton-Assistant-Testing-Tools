{
 "cells": [
  {
   "cell_type": "markdown",
   "metadata": {},
   "source": [
    "# Performance Testing for Watson Assistant \n",
    "This notebook can be used for Regression testing and Blind testing. \n",
    "\n",
    "1. **Regression Test Scope**: This can be used to test a set of testing phrases that are not part of the training set in Watson Assistant (WA). The idea is that you would re-run this test over time after the improvement phase, to check the health status of your workspace, and make sure that the workspace is still behaving in a consistent manner. \n",
    "2. **Blind Test Scope**: Simply analyse a set of testing phrases that are not part of the training set in Watson Assistant. This can be a one-off task requested by stakeholders. \n",
    "\n",
    "Either way, the procedure to obtain the results is the same in both cases. The difference is the scope and the content of your testing set.  \n",
    "\n",
    "<div class=\"alert alert-block alert-info\">\n",
    "<b>Notebook Summary</b>\n",
    "<br>\n",
    "      \n",
    "1. <b>Connect to WA</b> : credentials to connect to the right WA workspace<br>\n",
    "2. <b>Feed your test set</b> : feed your regression test in a .csv format<br>\n",
    "3. <b>Run the blind test</b> : send the testing phrases to WA workspace <br>\n",
    "4. <b>Analyse the results</b> : calculate the metrics and confusion matrix<br>\n",
    "5. <b>Analyse the incorrect matches</b> : highlight the phrases that did not trigger the right intent  \n",
    "</div>\n"
   ]
  },
  {
   "cell_type": "markdown",
   "metadata": {},
   "source": [
    "## Libraries"
   ]
  },
  {
   "cell_type": "code",
   "execution_count": 26,
   "metadata": {},
   "outputs": [
    {
     "name": "stdout",
     "output_type": "stream",
     "text": [
      "Requirement already satisfied: msgpack in /Users/erikaagostinelli/anaconda3/lib/python3.6/site-packages (0.5.6)\n",
      "\u001b[33mYou are using pip version 10.0.1, however version 18.1 is available.\n",
      "You should consider upgrading via the 'pip install --upgrade pip' command.\u001b[0m\n",
      "Requirement already satisfied: watson-developer-cloud in /Users/erikaagostinelli/anaconda3/lib/python3.6/site-packages (2.0.1)\n",
      "Requirement already satisfied: requests<3.0,>=2.0 in /Users/erikaagostinelli/anaconda3/lib/python3.6/site-packages (from watson-developer-cloud) (2.18.4)\n",
      "Requirement already satisfied: python-dateutil>=2.5.3 in /Users/erikaagostinelli/anaconda3/lib/python3.6/site-packages (from watson-developer-cloud) (2.7.3)\n",
      "Requirement already satisfied: websocket-client==0.47.0 in /Users/erikaagostinelli/anaconda3/lib/python3.6/site-packages (from watson-developer-cloud) (0.47.0)\n",
      "Requirement already satisfied: chardet<3.1.0,>=3.0.2 in /Users/erikaagostinelli/anaconda3/lib/python3.6/site-packages (from requests<3.0,>=2.0->watson-developer-cloud) (3.0.4)\n",
      "Requirement already satisfied: idna<2.7,>=2.5 in /Users/erikaagostinelli/anaconda3/lib/python3.6/site-packages (from requests<3.0,>=2.0->watson-developer-cloud) (2.6)\n",
      "Requirement already satisfied: urllib3<1.23,>=1.21.1 in /Users/erikaagostinelli/anaconda3/lib/python3.6/site-packages (from requests<3.0,>=2.0->watson-developer-cloud) (1.22)\n",
      "Requirement already satisfied: certifi>=2017.4.17 in /Users/erikaagostinelli/anaconda3/lib/python3.6/site-packages (from requests<3.0,>=2.0->watson-developer-cloud) (2018.4.16)\n",
      "Requirement already satisfied: six>=1.5 in /Users/erikaagostinelli/anaconda3/lib/python3.6/site-packages (from python-dateutil>=2.5.3->watson-developer-cloud) (1.11.0)\n",
      "\u001b[33mYou are using pip version 10.0.1, however version 18.1 is available.\n",
      "You should consider upgrading via the 'pip install --upgrade pip' command.\u001b[0m\n"
     ]
    }
   ],
   "source": [
    "!pip install msgpack\n",
    "!pip install watson-developer-cloud\n",
    "import json \n",
    "import pandas as pd\n",
    "import numpy as np\n",
    "import matplotlib.pyplot as plt\n",
    "%matplotlib inline\n",
    "# import seaborn as sns\n",
    "from watson_developer_cloud import AssistantV1\n",
    "from IPython.display import display\n",
    "from sklearn.metrics import *\n",
    "import itertools"
   ]
  },
  {
   "cell_type": "markdown",
   "metadata": {},
   "source": [
    "## 1. Connect to WA \n",
    "\n",
    "<div class=\"alert alert-block alert-warning\">\n",
    "\n",
    "<b>Data needed from the user</b>\n",
    "<br>\n",
    "\n",
    "    \n",
    "1. <b>Credentials to connect to WA</b> : username, password, version and url (US-South, Frankfurt etc)<br>\n",
    "2. <b>Workspace</b> : the ID of the workspace that you want to analyse. <br>\n",
    "</div>"
   ]
  },
  {
   "cell_type": "code",
   "execution_count": 27,
   "metadata": {},
   "outputs": [],
   "source": [
    "assistant = AssistantV1(\n",
    "    username='',  #USER INPUT\n",
    "    password='', #USER INPUT\n",
    "    version='2018-07-10',  #USER INPUT\n",
    "    url= '') #USER INPUT  \n",
    "    # e.g. Frankfurt : 'https://gateway-fra.watsonplatform.net/assistant/api'\n",
    "    # e.g. US-South : 'https://gateway.watsonplatform.net/assistant/api'\n",
    "\n",
    "workspace = '' #USER INPUT"
   ]
  },
  {
   "cell_type": "markdown",
   "metadata": {},
   "source": [
    "## 2. Feed the regression test\n",
    "\n",
    "<div class=\"alert alert-block alert-warning\">\n",
    "\n",
    "<b>Data needed from the user</b>\n",
    "<br>\n",
    "\n",
    "    \n",
    "1. <b>CSV file</b> : the regression test file containing the text and the predicted intent in a .csv format -> column A named : \"text\" and column B named: \"intent\" (UTF-8 format)<br>\n",
    "2. <b>Threshold</b>: this is the minimum level of confidence level that you are expecting in order to check if the input text is triggering the right intent. For example, if the threshold = 0.40 and the input phrase is triggering the correct intent with only 35% of confidence level, we would want to count it as a False Positive (not meeting the required conditions) and not as a True Positive, despite the intent is correct. The default in WA is 0.2. Less than 20% the utterance is classified as `irrelevant`. However, if you need to have a higher threshold it can be set here. \n",
    "</div>\n"
   ]
  },
  {
   "cell_type": "code",
   "execution_count": 28,
   "metadata": {},
   "outputs": [],
   "source": [
    "df = pd.read_csv(\"./test_set/reg_test.csv\") #USER INPUT\n",
    "threshold = 0.5 #USER INPUT"
   ]
  },
  {
   "cell_type": "markdown",
   "metadata": {},
   "source": [
    "## 3. Run the Blind test \n",
    "We are sending each testing phrase to WA and we are recording the first 3 intent triggered with the respective confidence levels in a python data structure called Data frame. "
   ]
  },
  {
   "cell_type": "code",
   "execution_count": 29,
   "metadata": {},
   "outputs": [
    {
     "name": "stdout",
     "output_type": "stream",
     "text": [
      "=== BLIND TEST STARTING ===\n",
      "I would like to order a pizza\n",
      "where I am right now\n",
      "tell me your name\n",
      "mission to Mars\n",
      "I am going to miss you\n",
      "I am going to miss my dog\n",
      "I want rucola on top \n",
      "is it possible to have ricotta salata\n",
      "=== BLIND TEST FINISHED===\n"
     ]
    },
    {
     "data": {
      "text/html": [
       "<div>\n",
       "<style scoped>\n",
       "    .dataframe tbody tr th:only-of-type {\n",
       "        vertical-align: middle;\n",
       "    }\n",
       "\n",
       "    .dataframe tbody tr th {\n",
       "        vertical-align: top;\n",
       "    }\n",
       "\n",
       "    .dataframe thead th {\n",
       "        text-align: right;\n",
       "    }\n",
       "</style>\n",
       "<table border=\"1\" class=\"dataframe\">\n",
       "  <thead>\n",
       "    <tr style=\"text-align: right;\">\n",
       "      <th></th>\n",
       "      <th>original_text</th>\n",
       "      <th>predicted_intent</th>\n",
       "      <th>actual_intent1</th>\n",
       "      <th>actual_confidence1</th>\n",
       "      <th>actual_intent2</th>\n",
       "      <th>actual_confidence2</th>\n",
       "      <th>actual_intent3</th>\n",
       "      <th>actual_confidence3</th>\n",
       "    </tr>\n",
       "  </thead>\n",
       "  <tbody>\n",
       "    <tr>\n",
       "      <th>0</th>\n",
       "      <td>I would like to order a pizza</td>\n",
       "      <td>pizza</td>\n",
       "      <td>pizza</td>\n",
       "      <td>0.990772</td>\n",
       "      <td>Bot_Control_Standby</td>\n",
       "      <td>0.264749</td>\n",
       "      <td>mission</td>\n",
       "      <td>0.241170</td>\n",
       "    </tr>\n",
       "    <tr>\n",
       "      <th>1</th>\n",
       "      <td>where I am right now</td>\n",
       "      <td>location</td>\n",
       "      <td>location</td>\n",
       "      <td>0.898570</td>\n",
       "      <td>Bot_Control_Approve_Response</td>\n",
       "      <td>0.363459</td>\n",
       "      <td>turn-right</td>\n",
       "      <td>0.324835</td>\n",
       "    </tr>\n",
       "    <tr>\n",
       "      <th>2</th>\n",
       "      <td>tell me your name</td>\n",
       "      <td>General_About_You</td>\n",
       "      <td>General_About_You</td>\n",
       "      <td>0.985632</td>\n",
       "      <td>General_Jokes</td>\n",
       "      <td>0.244070</td>\n",
       "      <td>General_Connect_to_Agent</td>\n",
       "      <td>0.244068</td>\n",
       "    </tr>\n",
       "    <tr>\n",
       "      <th>3</th>\n",
       "      <td>mission to Mars</td>\n",
       "      <td>mission</td>\n",
       "      <td>mission</td>\n",
       "      <td>0.815278</td>\n",
       "      <td>General_Connect_to_Agent</td>\n",
       "      <td>0.293085</td>\n",
       "      <td>General_Ending</td>\n",
       "      <td>0.286154</td>\n",
       "    </tr>\n",
       "    <tr>\n",
       "      <th>4</th>\n",
       "      <td>I am going to miss you</td>\n",
       "      <td>General_Ending</td>\n",
       "      <td>General_Ending</td>\n",
       "      <td>0.779169</td>\n",
       "      <td>Bot_Control_Confirm_Presence</td>\n",
       "      <td>0.636743</td>\n",
       "      <td>General_Positive_Feedback</td>\n",
       "      <td>0.254458</td>\n",
       "    </tr>\n",
       "    <tr>\n",
       "      <th>5</th>\n",
       "      <td>I am going to miss my dog</td>\n",
       "      <td>General_Ending</td>\n",
       "      <td>General_Ending</td>\n",
       "      <td>0.411596</td>\n",
       "      <td>toppings</td>\n",
       "      <td>0.270508</td>\n",
       "      <td>turn-right</td>\n",
       "      <td>0.249381</td>\n",
       "    </tr>\n",
       "    <tr>\n",
       "      <th>6</th>\n",
       "      <td>I want rucola on top</td>\n",
       "      <td>toppings</td>\n",
       "      <td>General_Ending</td>\n",
       "      <td>0.646932</td>\n",
       "      <td>Bot_Control_Start_Over</td>\n",
       "      <td>0.519537</td>\n",
       "      <td>toppings</td>\n",
       "      <td>0.478943</td>\n",
       "    </tr>\n",
       "    <tr>\n",
       "      <th>7</th>\n",
       "      <td>is it possible to have ricotta salata</td>\n",
       "      <td>toppings</td>\n",
       "      <td>pizza</td>\n",
       "      <td>0.352256</td>\n",
       "      <td>toppings</td>\n",
       "      <td>0.302420</td>\n",
       "      <td>General_Security_Assurance</td>\n",
       "      <td>0.257815</td>\n",
       "    </tr>\n",
       "  </tbody>\n",
       "</table>\n",
       "</div>"
      ],
      "text/plain": [
       "                           original_text   predicted_intent  \\\n",
       "0          I would like to order a pizza              pizza   \n",
       "1                   where I am right now           location   \n",
       "2                      tell me your name  General_About_You   \n",
       "3                        mission to Mars            mission   \n",
       "4                 I am going to miss you     General_Ending   \n",
       "5              I am going to miss my dog     General_Ending   \n",
       "6                  I want rucola on top            toppings   \n",
       "7  is it possible to have ricotta salata           toppings   \n",
       "\n",
       "      actual_intent1  actual_confidence1                actual_intent2  \\\n",
       "0              pizza            0.990772           Bot_Control_Standby   \n",
       "1           location            0.898570  Bot_Control_Approve_Response   \n",
       "2  General_About_You            0.985632                 General_Jokes   \n",
       "3            mission            0.815278      General_Connect_to_Agent   \n",
       "4     General_Ending            0.779169  Bot_Control_Confirm_Presence   \n",
       "5     General_Ending            0.411596                      toppings   \n",
       "6     General_Ending            0.646932        Bot_Control_Start_Over   \n",
       "7              pizza            0.352256                      toppings   \n",
       "\n",
       "   actual_confidence2              actual_intent3  actual_confidence3  \n",
       "0            0.264749                     mission            0.241170  \n",
       "1            0.363459                  turn-right            0.324835  \n",
       "2            0.244070    General_Connect_to_Agent            0.244068  \n",
       "3            0.293085              General_Ending            0.286154  \n",
       "4            0.636743   General_Positive_Feedback            0.254458  \n",
       "5            0.270508                  turn-right            0.249381  \n",
       "6            0.519537                    toppings            0.478943  \n",
       "7            0.302420  General_Security_Assurance            0.257815  "
      ]
     },
     "execution_count": 29,
     "metadata": {},
     "output_type": "execute_result"
    }
   ],
   "source": [
    "def blind_test(df):\n",
    "    \"\"\"\n",
    "    This function will take the regression test set uploaded in csv format and \n",
    "    will send each test phrase to WA and collect information on how the system responded. \n",
    "    \n",
    "    Parameter: \n",
    "        df: the regression_test in csv format\n",
    "\n",
    "    Return: \n",
    "        results: a Pandas dataframe with `original text`, `predicted intent` and also the results from WA\n",
    "    \"\"\"\n",
    "\n",
    "    results = pd.DataFrame(columns=['original_text','predicted_intent','actual_intent1','actual_confidence1',\n",
    "                                    'actual_intent2','actual_confidence2','actual_intent3','actual_confidence3'])\n",
    "    print(\"=== BLIND TEST STARTING ===\")\n",
    "    for i in range(len(df)):\n",
    "\n",
    "        text = df[\"text\"][i]\n",
    "        print(text)\n",
    "        response = assistant.message(workspace_id=workspace, input={'text': text}, alternate_intents= True)\n",
    "        dumps = json.dumps(response.get_result(), indent=2)\n",
    "        #print(dumps)\n",
    "\n",
    "        data = json.loads(dumps)\n",
    "\n",
    "        intent1= data['intents'][0]['intent']\n",
    "        intent2= data['intents'][1]['intent']\n",
    "        intent3= data['intents'][2]['intent']\n",
    "        confidence1 = data['intents'][0]['confidence']\n",
    "        confidence2 = data['intents'][1]['confidence']\n",
    "        confidence3 = data['intents'][2]['confidence']\n",
    "\n",
    "        results = results.append({\n",
    "            'original_text': df[\"text\"][i],\\\n",
    "            'predicted_intent': df[\"intent\"][i],\\\n",
    "            'actual_intent1': intent1, \\\n",
    "            'actual_confidence1':confidence1, \\\n",
    "            'actual_intent2':intent2, \\\n",
    "            'actual_confidence2': confidence2, \\\n",
    "            'actual_intent3': intent3,\n",
    "            'actual_confidence3': confidence3, \\\n",
    "        }, ignore_index=True)\n",
    "    \n",
    "    results.to_csv(\"./results/blind_test_results.csv\", encoding='utf-8', index=False)\n",
    "    \n",
    "    print(\"=== BLIND TEST FINISHED===\")\n",
    "    \n",
    "    return results\n",
    "\n",
    "results = blind_test(df)\n",
    "results.head(10)"
   ]
  },
  {
   "cell_type": "markdown",
   "metadata": {},
   "source": [
    "## 4. Analyse the results\n",
    "This step analyses the obtained results per intent and creates a confusion matrix. \n",
    "\n",
    "In `data_prep` function we are preparing the data set. Any `actual_intent1` that has been triggered with a confidence level less than the threshold determined above by the user will be renamed `BELOW_THRESHOLD`. \n",
    "This will allow us to avoid counting as a true positive "
   ]
  },
  {
   "cell_type": "code",
   "execution_count": 30,
   "metadata": {},
   "outputs": [
    {
     "data": {
      "image/png": "[encoded data removed]",
      "text/plain": [
       "<Figure size 864x864 with 2 Axes>"
      ]
     },
     "metadata": {},
     "output_type": "display_data"
    }
   ],
   "source": [
    "def data_prep(dataframe):\n",
    "    \"\"\"\n",
    "    this function prepares the dataframe to be used \n",
    "    \"\"\"\n",
    "    dataframe[\"actual_intent_correct\"] = dataframe[\"actual_intent1\"]\n",
    "    dataframe[\"actual_intent_correct\"] = np.where((dataframe[\"actual_confidence1\"]<threshold),\\\n",
    "                                                  \"BELOW_THRESHOLD\", dataframe[\"actual_intent1\"])\n",
    "    matrix = confusion_matrix(dataframe[\"actual_intent_correct\"], dataframe[\"predicted_intent\"])\n",
    "    \n",
    "    lab1 = dataframe[\"actual_intent_correct\"].unique()\n",
    "    lab2 = dataframe[\"predicted_intent\"].unique()\n",
    "    lab = np.union1d(lab1,lab2)\n",
    "    \n",
    "    return matrix, lab\n",
    "\n",
    "matrix, lab = data_prep(results)\n",
    "\n",
    "\n",
    "def plot_confusion_matrix(cm, classes,\n",
    "                          normalize=False,\n",
    "                          title='Confusion matrix',\n",
    "                          cmap=plt.cm.RdPu):\n",
    "    \"\"\"\n",
    "    This function prints and plots the confusion matrix.\n",
    "    Normalization can be applied by setting `normalize=True`.\n",
    "    \"\"\"\n",
    "    if normalize:\n",
    "        cm = cm.astype('float') / cm.sum(axis=1)[:, np.newaxis]\n",
    "\n",
    "    plt.imshow(cm, interpolation='nearest', cmap=cmap)\n",
    "    plt.title(title)\n",
    "    plt.colorbar()\n",
    "    tick_marks = np.arange(len(classes))\n",
    "    plt.xticks(tick_marks, classes, rotation=45)\n",
    "    plt.yticks(tick_marks, classes)\n",
    "\n",
    "    fmt = '.2f' if normalize else 'd'\n",
    "    thresh = cm.max() / 2.\n",
    "    for i, j in itertools.product(range(cm.shape[0]), range(cm.shape[1])):\n",
    "        plt.text(j, i, format(cm[i, j], fmt),\n",
    "                 horizontalalignment=\"center\",\n",
    "                 color=\"white\" if cm[i, j] > thresh else \"black\")\n",
    "\n",
    "    plt.ylabel('Actual Intent')\n",
    "    plt.xlabel('Predicted Intent')\n",
    "    plt.tight_layout()\n",
    "    \n",
    "    return \n",
    "\n",
    "plt.figure(figsize=(12,12))\n",
    "plot_confusion_matrix(matrix, classes=lab,\n",
    "                      title='Confusion matrix for the predicted and actual intents')"
   ]
  },
  {
   "cell_type": "markdown",
   "metadata": {},
   "source": [
    "## Collection of metrics\n"
   ]
  },
  {
   "cell_type": "markdown",
   "metadata": {},
   "source": [
    "1. **Accuracy** : In multilabel classification, this function computes subset accuracy, the set of labels predicted for a sample must exactly match the corresponding set of labels in _y_true_.\n",
    "2. **Precision** : The precision is the ratio _tp / (tp + fp)_ where tp is the number of _true positives_ and fp the number of _false positives_. The precision is intuitively the ability of the classifier not to label as positive a sample that is actually negative.\n",
    "3. **Recall** : The recall is the ratio _tp / (tp + fn)_ where tp is the number of _true positives_ and fn the number of _false negatives_. The recall is intuitively the ability of the classifier to find all positive samples. \n",
    "4. **F-score** : The F-beta score can be interpreted as a weighted harmonic mean of the precision and recall, where an F-beta score reaches its best value at 1 and worst score at 0. The F-beta score weighs recall more than precision by a factor of beta. A value of beta == 1.0 means recall and precision are equally important.\n",
    "\n",
    "[precision_recall_fscore_support function](http://scikit-learn.org/stable/modules/generated/sklearn.metrics.precision_recall_fscore_support.html#sklearn.metrics.precision_recall_fscore_support)\n"
   ]
  },
  {
   "cell_type": "code",
   "execution_count": 31,
   "metadata": {},
   "outputs": [
    {
     "name": "stdout",
     "output_type": "stream",
     "text": [
      "Accuracy: 0.625\n",
      "Precision: 0.625\n",
      "Recall: 0.625\n",
      "FScore: 0.625\n",
      "                   precision    recall  f1-score   support\n",
      "\n",
      "  BELOW_THRESHOLD       0.00      0.00      0.00         2\n",
      "General_About_You       1.00      1.00      1.00         1\n",
      "   General_Ending       0.50      0.50      0.50         2\n",
      "         location       1.00      1.00      1.00         1\n",
      "          mission       1.00      1.00      1.00         1\n",
      "            pizza       1.00      1.00      1.00         1\n",
      "         toppings       0.00      0.00      0.00         0\n",
      "\n",
      "      avg / total       0.62      0.62      0.62         8\n",
      "\n"
     ]
    },
    {
     "name": "stderr",
     "output_type": "stream",
     "text": [
      "/Users/erikaagostinelli/anaconda3/lib/python3.6/site-packages/sklearn/metrics/classification.py:1135: UndefinedMetricWarning: Precision and F-score are ill-defined and being set to 0.0 in labels with no predicted samples.\n",
      "  'precision', 'predicted', average, warn_for)\n",
      "/Users/erikaagostinelli/anaconda3/lib/python3.6/site-packages/sklearn/metrics/classification.py:1137: UndefinedMetricWarning: Recall and F-score are ill-defined and being set to 0.0 in labels with no true samples.\n",
      "  'recall', 'true', average, warn_for)\n"
     ]
    }
   ],
   "source": [
    "accuracy = accuracy_score(results[\"actual_intent_correct\"], results[\"predicted_intent\"])\n",
    "print(\"Accuracy:\", accuracy)\n",
    "precision,recall,fscore,support=precision_recall_fscore_support(results[\"actual_intent_correct\"],\n",
    "                                                                results[\"predicted_intent\"],\n",
    "                                                                average='weighted')\n",
    "print(\"Precision:\", precision)\n",
    "print(\"Recall:\", recall)\n",
    "print(\"FScore:\", fscore)\n",
    "print(classification_report(results[\"actual_intent_correct\"], results[\"predicted_intent\"]))"
   ]
  },
  {
   "cell_type": "markdown",
   "metadata": {},
   "source": [
    "----------------------------------\n",
    "## 5. Analyse the Incorrect matches\n",
    "We have identified 3 types of different incorrect matches. \n",
    "1. **Incorrect intent was triggered with high confidence**: It is important to understand why the incorrect intent is sensitive to the testing phrase – an N-gram test can be helpful in such cases. This type of error has the priority, since it can have a bad influence on the chatbot’s performance.\n",
    "2. **Incorrect intent was triggered with low confidence** : Since those intents were triggered with low confidence, this error has less priority compared to problem (1). However, an incorrect intent was still detected. – an N-gram test can be helpful in such cases. Further, more training is necessary in order to boost the confidence level of the correct intent and resolving the conflicts between both intents.\n",
    "3. **Correct intent but with low confidence** : More training is needed in order to increase the confidence level of the correct intent."
   ]
  },
  {
   "cell_type": "markdown",
   "metadata": {},
   "source": [
    "### 1. Incorrect intent was triggered with high confidence "
   ]
  },
  {
   "cell_type": "code",
   "execution_count": 32,
   "metadata": {},
   "outputs": [
    {
     "data": {
      "text/html": [
       "<div>\n",
       "<style scoped>\n",
       "    .dataframe tbody tr th:only-of-type {\n",
       "        vertical-align: middle;\n",
       "    }\n",
       "\n",
       "    .dataframe tbody tr th {\n",
       "        vertical-align: top;\n",
       "    }\n",
       "\n",
       "    .dataframe thead th {\n",
       "        text-align: right;\n",
       "    }\n",
       "</style>\n",
       "<table border=\"1\" class=\"dataframe\">\n",
       "  <thead>\n",
       "    <tr style=\"text-align: right;\">\n",
       "      <th></th>\n",
       "      <th>original_text</th>\n",
       "      <th>predicted_intent</th>\n",
       "      <th>actual_intent1</th>\n",
       "      <th>actual_confidence1</th>\n",
       "      <th>actual_intent2</th>\n",
       "      <th>actual_confidence2</th>\n",
       "      <th>actual_intent3</th>\n",
       "      <th>actual_confidence3</th>\n",
       "      <th>actual_intent_correct</th>\n",
       "    </tr>\n",
       "  </thead>\n",
       "  <tbody>\n",
       "    <tr>\n",
       "      <th>6</th>\n",
       "      <td>I want rucola on top</td>\n",
       "      <td>toppings</td>\n",
       "      <td>General_Ending</td>\n",
       "      <td>0.646932</td>\n",
       "      <td>Bot_Control_Start_Over</td>\n",
       "      <td>0.519537</td>\n",
       "      <td>toppings</td>\n",
       "      <td>0.478943</td>\n",
       "      <td>General_Ending</td>\n",
       "    </tr>\n",
       "  </tbody>\n",
       "</table>\n",
       "</div>"
      ],
      "text/plain": [
       "           original_text predicted_intent  actual_intent1  actual_confidence1  \\\n",
       "6  I want rucola on top          toppings  General_Ending            0.646932   \n",
       "\n",
       "           actual_intent2  actual_confidence2 actual_intent3  \\\n",
       "6  Bot_Control_Start_Over            0.519537       toppings   \n",
       "\n",
       "   actual_confidence3 actual_intent_correct  \n",
       "6            0.478943        General_Ending  "
      ]
     },
     "metadata": {},
     "output_type": "display_data"
    }
   ],
   "source": [
    "incorrect1 = results.loc[(results[\"predicted_intent\"]!=results[\"actual_intent1\"])&(results[\"actual_confidence1\"]>=threshold)]\n",
    "if (len(incorrect1) == 0 ): \n",
    "    print (\"No issues found\")\n",
    "else: \n",
    "    display(incorrect1)"
   ]
  },
  {
   "cell_type": "markdown",
   "metadata": {},
   "source": [
    "### 2. Incorrect intent was triggered with low confidence "
   ]
  },
  {
   "cell_type": "code",
   "execution_count": 33,
   "metadata": {},
   "outputs": [
    {
     "data": {
      "text/html": [
       "<div>\n",
       "<style scoped>\n",
       "    .dataframe tbody tr th:only-of-type {\n",
       "        vertical-align: middle;\n",
       "    }\n",
       "\n",
       "    .dataframe tbody tr th {\n",
       "        vertical-align: top;\n",
       "    }\n",
       "\n",
       "    .dataframe thead th {\n",
       "        text-align: right;\n",
       "    }\n",
       "</style>\n",
       "<table border=\"1\" class=\"dataframe\">\n",
       "  <thead>\n",
       "    <tr style=\"text-align: right;\">\n",
       "      <th></th>\n",
       "      <th>original_text</th>\n",
       "      <th>predicted_intent</th>\n",
       "      <th>actual_intent1</th>\n",
       "      <th>actual_confidence1</th>\n",
       "      <th>actual_intent2</th>\n",
       "      <th>actual_confidence2</th>\n",
       "      <th>actual_intent3</th>\n",
       "      <th>actual_confidence3</th>\n",
       "      <th>actual_intent_correct</th>\n",
       "    </tr>\n",
       "  </thead>\n",
       "  <tbody>\n",
       "    <tr>\n",
       "      <th>7</th>\n",
       "      <td>is it possible to have ricotta salata</td>\n",
       "      <td>toppings</td>\n",
       "      <td>pizza</td>\n",
       "      <td>0.352256</td>\n",
       "      <td>toppings</td>\n",
       "      <td>0.30242</td>\n",
       "      <td>General_Security_Assurance</td>\n",
       "      <td>0.257815</td>\n",
       "      <td>BELOW_THRESHOLD</td>\n",
       "    </tr>\n",
       "  </tbody>\n",
       "</table>\n",
       "</div>"
      ],
      "text/plain": [
       "                           original_text predicted_intent actual_intent1  \\\n",
       "7  is it possible to have ricotta salata         toppings          pizza   \n",
       "\n",
       "   actual_confidence1 actual_intent2  actual_confidence2  \\\n",
       "7            0.352256       toppings             0.30242   \n",
       "\n",
       "               actual_intent3  actual_confidence3 actual_intent_correct  \n",
       "7  General_Security_Assurance            0.257815       BELOW_THRESHOLD  "
      ]
     },
     "metadata": {},
     "output_type": "display_data"
    }
   ],
   "source": [
    "incorrect2 = results.loc[(results[\"predicted_intent\"]!=results[\"actual_intent1\"])&(results[\"actual_confidence1\"]<threshold)]\n",
    "if (len(incorrect2) == 0 ): \n",
    "    print (\"No issues found\")\n",
    "else: \n",
    "    display(incorrect2)"
   ]
  },
  {
   "cell_type": "markdown",
   "metadata": {},
   "source": [
    "### 3. Correct intent was triggered but with low confidence "
   ]
  },
  {
   "cell_type": "code",
   "execution_count": 34,
   "metadata": {},
   "outputs": [
    {
     "data": {
      "text/html": [
       "<div>\n",
       "<style scoped>\n",
       "    .dataframe tbody tr th:only-of-type {\n",
       "        vertical-align: middle;\n",
       "    }\n",
       "\n",
       "    .dataframe tbody tr th {\n",
       "        vertical-align: top;\n",
       "    }\n",
       "\n",
       "    .dataframe thead th {\n",
       "        text-align: right;\n",
       "    }\n",
       "</style>\n",
       "<table border=\"1\" class=\"dataframe\">\n",
       "  <thead>\n",
       "    <tr style=\"text-align: right;\">\n",
       "      <th></th>\n",
       "      <th>original_text</th>\n",
       "      <th>predicted_intent</th>\n",
       "      <th>actual_intent1</th>\n",
       "      <th>actual_confidence1</th>\n",
       "      <th>actual_intent2</th>\n",
       "      <th>actual_confidence2</th>\n",
       "      <th>actual_intent3</th>\n",
       "      <th>actual_confidence3</th>\n",
       "      <th>actual_intent_correct</th>\n",
       "    </tr>\n",
       "  </thead>\n",
       "  <tbody>\n",
       "    <tr>\n",
       "      <th>5</th>\n",
       "      <td>I am going to miss my dog</td>\n",
       "      <td>General_Ending</td>\n",
       "      <td>General_Ending</td>\n",
       "      <td>0.411596</td>\n",
       "      <td>toppings</td>\n",
       "      <td>0.270508</td>\n",
       "      <td>turn-right</td>\n",
       "      <td>0.249381</td>\n",
       "      <td>BELOW_THRESHOLD</td>\n",
       "    </tr>\n",
       "  </tbody>\n",
       "</table>\n",
       "</div>"
      ],
      "text/plain": [
       "               original_text predicted_intent  actual_intent1  \\\n",
       "5  I am going to miss my dog   General_Ending  General_Ending   \n",
       "\n",
       "   actual_confidence1 actual_intent2  actual_confidence2 actual_intent3  \\\n",
       "5            0.411596       toppings            0.270508     turn-right   \n",
       "\n",
       "   actual_confidence3 actual_intent_correct  \n",
       "5            0.249381       BELOW_THRESHOLD  "
      ]
     },
     "metadata": {},
     "output_type": "display_data"
    }
   ],
   "source": [
    "incorrect3 = results.loc[(results[\"predicted_intent\"]==results[\"actual_intent1\"])&(results[\"actual_confidence1\"]<threshold)]\n",
    "if (len(incorrect3) == 0 ): \n",
    "    print (\"No issues found\")\n",
    "else: \n",
    "    display(incorrect3)"
   ]
  },
  {
   "cell_type": "markdown",
   "metadata": {},
   "source": [
    "## Improvement List: \n",
    "1. Create CSV files that the user can download - which format and which data needed?  - results file is created - what else?\n",
    "2. Confusion matrix can become unreadable if the dataset is too big "
   ]
  },
  {
   "cell_type": "markdown",
   "metadata": {},
   "source": [
    "Author: [Erika Agostinelli](https://www.linkedin.com/in/erikaagostinelli/)"
   ]
  }
 ],
 "metadata": {
  "kernelspec": {
   "display_name": "Python 3",
   "language": "python",
   "name": "python3"
  },
  "language_info": {
   "codemirror_mode": {
    "name": "ipython",
    "version": 3
   },
   "file_extension": ".py",
   "mimetype": "text/x-python",
   "name": "python",
   "nbconvert_exporter": "python",
   "pygments_lexer": "ipython3",
   "version": "3.6.5"
  }
 },
 "nbformat": 4,
 "nbformat_minor": 2
}
